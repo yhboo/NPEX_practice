{
 "cells": [
  {
   "cell_type": "code",
   "execution_count": 1,
   "metadata": {},
   "outputs": [],
   "source": [
    "import os\n",
    "\n",
    "import tensorflow as tf\n",
    "from tensorflow.examples.tutorials.mnist import input_data\n",
    "import numpy as np\n",
    "\n",
    "from model import simple_mlp as mlp_float\n",
    "from model_fixed import simple_mlp as mlp_fixed\n",
    "\n",
    "os.environ['CUDA_VISIBLE_DEVICES'] = '0'\n",
    "os.environ['TF_CPP_MIN_LOG_LEVEL'] = '3'"
   ]
  },
  {
   "cell_type": "code",
   "execution_count": 2,
   "metadata": {},
   "outputs": [
    {
     "name": "stdout",
     "output_type": "stream",
     "text": [
      "WARNING:tensorflow:From <ipython-input-2-d059b408d26a>:1: read_data_sets (from tensorflow.contrib.learn.python.learn.datasets.mnist) is deprecated and will be removed in a future version.\n",
      "Instructions for updating:\n",
      "Please use alternatives such as official/mnist/dataset.py from tensorflow/models.\n",
      "WARNING:tensorflow:From /home/yhboo/anaconda3/lib/python3.6/site-packages/tensorflow/contrib/learn/python/learn/datasets/mnist.py:260: maybe_download (from tensorflow.contrib.learn.python.learn.datasets.base) is deprecated and will be removed in a future version.\n",
      "Instructions for updating:\n",
      "Please write your own downloading logic.\n",
      "WARNING:tensorflow:From /home/yhboo/anaconda3/lib/python3.6/site-packages/tensorflow/contrib/learn/python/learn/datasets/mnist.py:262: extract_images (from tensorflow.contrib.learn.python.learn.datasets.mnist) is deprecated and will be removed in a future version.\n",
      "Instructions for updating:\n",
      "Please use tf.data to implement this functionality.\n",
      "Extracting ./data/train-images-idx3-ubyte.gz\n",
      "WARNING:tensorflow:From /home/yhboo/anaconda3/lib/python3.6/site-packages/tensorflow/contrib/learn/python/learn/datasets/mnist.py:267: extract_labels (from tensorflow.contrib.learn.python.learn.datasets.mnist) is deprecated and will be removed in a future version.\n",
      "Instructions for updating:\n",
      "Please use tf.data to implement this functionality.\n",
      "Extracting ./data/train-labels-idx1-ubyte.gz\n",
      "Extracting ./data/t10k-images-idx3-ubyte.gz\n",
      "Extracting ./data/t10k-labels-idx1-ubyte.gz\n",
      "WARNING:tensorflow:From /home/yhboo/anaconda3/lib/python3.6/site-packages/tensorflow/contrib/learn/python/learn/datasets/mnist.py:290: DataSet.__init__ (from tensorflow.contrib.learn.python.learn.datasets.mnist) is deprecated and will be removed in a future version.\n",
      "Instructions for updating:\n",
      "Please use alternatives such as official/mnist/dataset.py from tensorflow/models.\n"
     ]
    }
   ],
   "source": [
    "dataset = input_data.read_data_sets('./data', one_hot = False) #read MNIST Dataset\n",
    "\n",
    "\n",
    "######### float graph build ##########\n",
    "#model define\n",
    "model = mlp_float(\n",
    "    n_layer = 3,\n",
    "    hidden_dim = 512\n",
    ")\n",
    "\n",
    "\n",
    "#placeholder for batch data\n",
    "x = tf.placeholder(tf.float32, [None, 784])\n",
    "y = tf.placeholder(tf.int32, [None,])\n",
    "\n",
    "#build network graph\n",
    "logit = model(x)\n",
    "    \n",
    "#define loss and optimizers\n",
    "loss = tf.losses.sparse_softmax_cross_entropy(labels = y, logits = logit) \n",
    "acc = tf.reduce_mean(tf.to_float(tf.equal(tf.to_int32(tf.argmax(logit, axis=-1)), y)))\n",
    "\n",
    "saver = tf.train.Saver()\n",
    "###### end graph build ######\n"
   ]
  },
  {
   "cell_type": "code",
   "execution_count": 3,
   "metadata": {},
   "outputs": [
    {
     "name": "stdout",
     "output_type": "stream",
     "text": [
      "INFO:tensorflow:Restoring parameters from ./results/model\n",
      "test loss : 0.0782, acc : 0.9832\n"
     ]
    }
   ],
   "source": [
    "#pretrained model load test\n",
    "\n",
    "with tf.Session() as sess:\n",
    "    sess.run(tf.global_variables_initializer())\n",
    "\n",
    "    #load pretrained model\n",
    "    saver.restore(sess, './results/model')\n",
    "\n",
    "    ### test trained model ###\n",
    "    test_loss, test_acc = sess.run(\n",
    "            [loss, acc],\n",
    "            feed_dict = {x: dataset.test.images, y: dataset.test.labels}\n",
    "            )\n",
    "\n",
    "    print('test loss : %.4f, acc : %.4f'%(test_loss, test_acc))"
   ]
  },
  {
   "cell_type": "code",
   "execution_count": 30,
   "metadata": {},
   "outputs": [],
   "source": [
    "tf.reset_default_graph()"
   ]
  },
  {
   "cell_type": "code",
   "execution_count": 31,
   "metadata": {},
   "outputs": [],
   "source": [
    "_N_W = 2\n",
    "_N_B = 4\n",
    "_N_A = 4\n",
    "\n",
    "######### fixed graph build ##########\n",
    "#model define\n",
    "model = mlp_fixed(\n",
    "    n_layer = 3,\n",
    "    hidden_dim = 512\n",
    ")\n",
    "\n",
    "\n",
    "#placeholder for batch data\n",
    "x = tf.placeholder(tf.float32, [None, 784])\n",
    "y = tf.placeholder(tf.int32, [None,])\n",
    "\n",
    "#build network graph\n",
    "#logit = model(x)\n",
    "logit = model(x, n_w = _N_W, n_b = _N_B, n_a = _N_A)\n",
    "    \n",
    "#define loss and optimizers\n",
    "loss = tf.losses.sparse_softmax_cross_entropy(labels = y, logits = logit) \n",
    "acc = tf.reduce_mean(tf.to_float(tf.equal(tf.to_int32(tf.argmax(logit, axis=-1)), y)))\n",
    "\n",
    "saver = tf.train.Saver()\n",
    "###### end graph build ######"
   ]
  },
  {
   "cell_type": "code",
   "execution_count": 32,
   "metadata": {},
   "outputs": [
    {
     "name": "stdout",
     "output_type": "stream",
     "text": [
      "INFO:tensorflow:Restoring parameters from ./results/model\n",
      "test loss : 0.1095, acc : 0.9648\n"
     ]
    }
   ],
   "source": [
    "#pretrained model direct quantization test\n",
    "\n",
    "with tf.Session() as sess:\n",
    "    sess.run(tf.global_variables_initializer())\n",
    "\n",
    "    #load pretrained model\n",
    "    saver.restore(sess, './results/model')\n",
    "\n",
    "    ### test trained model ###\n",
    "    test_loss, test_acc = sess.run(\n",
    "            [loss, acc],\n",
    "            feed_dict = {x: dataset.test.images, y: dataset.test.labels}\n",
    "            )\n",
    "\n",
    "    print('test loss : %.4f, acc : %.4f'%(test_loss, test_acc))\n",
    "    \n",
    "    #for param check\n",
    "    all_p = sess.run(tf.global_variables())\n",
    "    w_list, b_list, a_list = sess.run(\n",
    "            [model.fixed_w, model.fixed_b, model.fixed_a],\n",
    "            feed_dict = {x: dataset.test.images}\n",
    "            )\n",
    "    w_clip, b_clip = sess.run([model.clip_list_w, model.clip_list_b])"
   ]
  },
  {
   "cell_type": "code",
   "execution_count": 33,
   "metadata": {},
   "outputs": [
    {
     "name": "stdout",
     "output_type": "stream",
     "text": [
      "w_1:0\n",
      "[[-0.03323 -0.06025 -0.0491  ...  0.06586 -0.03667  0.04038]\n",
      " [-0.09036  0.04966 -0.04223 ...  0.08582 -0.08799 -0.00064]\n",
      " [ 0.07698  0.06667 -0.03831 ...  0.05336 -0.07198 -0.02152]\n",
      " [-0.06299 -0.02648 -0.00322 ... -0.08102 -0.05288 -0.0389 ]\n",
      " [ 0.02165  0.06696  0.00328 ... -0.06349 -0.04011  0.03164]]\n",
      "b_1:0\n",
      "[ 0.00732  0.00679 -0.00058  0.01099  0.02571]\n"
     ]
    }
   ],
   "source": [
    "np.set_printoptions(precision = 5, suppress = True)\n",
    "# check float variable \n",
    "for p, pp in zip(all_p, tf.global_variables()):\n",
    "        if '1' in pp.name:\n",
    "            print(pp.name)\n",
    "            print(p[0:5])\n"
   ]
  },
  {
   "cell_type": "code",
   "execution_count": 34,
   "metadata": {},
   "outputs": [
    {
     "name": "stdout",
     "output_type": "stream",
     "text": [
      "clip value :  0.05623006\n",
      "delta :  0.05623006075620651\n"
     ]
    }
   ],
   "source": [
    "#fixed weights in layer 1\n",
    "w1 = w_list[1]\n",
    "w1_clip = w_clip[1]\n",
    "delta_w = (w1_clip - (-w1_clip)) / (2**_N_W - 2)\n",
    "print('clip value : ', w1_clip)\n",
    "print('delta : ', delta_w)"
   ]
  },
  {
   "cell_type": "code",
   "execution_count": 35,
   "metadata": {},
   "outputs": [
    {
     "name": "stdout",
     "output_type": "stream",
     "text": [
      "fake quant weights :  [[-0.05623 -0.05623 -0.05623 ...  0.05623 -0.05623  0.05623]\n",
      " [-0.05623  0.05623 -0.05623 ...  0.05623 -0.05623  0.     ]\n",
      " [ 0.05623  0.05623 -0.05623 ...  0.05623 -0.05623  0.     ]\n",
      " [-0.05623  0.       0.      ... -0.05623 -0.05623 -0.05623]\n",
      " [ 0.       0.05623  0.      ... -0.05623 -0.05623  0.05623]]\n"
     ]
    }
   ],
   "source": [
    "print('fake quant weights : ', w1[0:5])"
   ]
  },
  {
   "cell_type": "code",
   "execution_count": 36,
   "metadata": {},
   "outputs": [
    {
     "name": "stdout",
     "output_type": "stream",
     "text": [
      "fixed weights :  [[-1. -1. -1. ...  1. -1.  1.]\n",
      " [-1.  1. -1. ...  1. -1.  0.]\n",
      " [ 1.  1. -1. ...  1. -1.  0.]\n",
      " [-1.  0.  0. ... -1. -1. -1.]\n",
      " [ 0.  1.  0. ... -1. -1.  1.]]\n"
     ]
    }
   ],
   "source": [
    "print('fixed weights : ', w1[0:5] / delta_w)"
   ]
  },
  {
   "cell_type": "code",
   "execution_count": 66,
   "metadata": {},
   "outputs": [],
   "source": [
    "tf.reset_default_graph()"
   ]
  },
  {
   "cell_type": "code",
   "execution_count": 67,
   "metadata": {},
   "outputs": [
    {
     "name": "stdout",
     "output_type": "stream",
     "text": [
      "vars in default graphs\n",
      "w_0:0\n",
      "b_0:0\n",
      "w_1:0\n",
      "b_1:0\n",
      "w_2:0\n",
      "b_2:0\n",
      "w_3:0\n",
      "b_3:0\n"
     ]
    }
   ],
   "source": [
    "#### tf create fixed-point graph ####\n",
    "\n",
    "######### float graph build ##########\n",
    "#model define\n",
    "model = mlp_float(\n",
    "    n_layer = 3,\n",
    "    hidden_dim = 512\n",
    ")\n",
    "\n",
    "\n",
    "#placeholder for batch data\n",
    "x = tf.placeholder(tf.float32, [None, 784])\n",
    "y = tf.placeholder(tf.int32, [None,])\n",
    "\n",
    "#build network graph\n",
    "logit = model(x)\n",
    "    \n",
    "#define loss and optimizers\n",
    "loss = tf.losses.sparse_softmax_cross_entropy(labels = y, logits = logit) \n",
    "acc = tf.reduce_mean(tf.to_float(tf.equal(tf.to_int32(tf.argmax(logit, axis=-1)), y)))\n",
    "\n",
    "saver = tf.train.Saver()\n",
    "###### end (base) graph build ######\n",
    "\n",
    "print('vars in default graphs')\n",
    "for p in tf.global_variables():\n",
    "    print(p.name)\n",
    "       "
   ]
  },
  {
   "cell_type": "code",
   "execution_count": 68,
   "metadata": {},
   "outputs": [
    {
     "name": "stdout",
     "output_type": "stream",
     "text": [
      "vars in fixed-point graphs\n",
      "w_0:0\n",
      "b_0:0\n",
      "w_1:0\n",
      "b_1:0\n",
      "w_2:0\n",
      "b_2:0\n",
      "w_3:0\n",
      "b_3:0\n",
      "xw_plus_b/weights_quant/min:0\n",
      "xw_plus_b/weights_quant/max:0\n",
      "xw_plus_b/act_quant/min:0\n",
      "xw_plus_b/act_quant/max:0\n",
      "xw_plus_b_1/weights_quant/min:0\n",
      "xw_plus_b_1/weights_quant/max:0\n",
      "xw_plus_b_1/act_quant/min:0\n",
      "xw_plus_b_1/act_quant/max:0\n",
      "xw_plus_b_2/weights_quant/min:0\n",
      "xw_plus_b_2/weights_quant/max:0\n",
      "xw_plus_b_2/act_quant/min:0\n",
      "xw_plus_b_2/act_quant/max:0\n",
      "xw_plus_b_3/weights_quant/min:0\n",
      "xw_plus_b_3/weights_quant/max:0\n",
      "xw_plus_b_3/act_quant/min:0\n",
      "xw_plus_b_3/act_quant/max:0\n"
     ]
    }
   ],
   "source": [
    "_N_W = 8\n",
    "_N_A = 4\n",
    "#create quantization nodes\n",
    "g = tf.get_default_graph()\n",
    "\n",
    "#tf.contrib.quantize.create_eval_graph(input_graph = g)\n",
    "    \n",
    "tf.contrib.quantize.experimental_create_eval_graph(\n",
    "        input_graph = g,\n",
    "        weight_bits = _N_W,\n",
    "        activation_bits = _N_A\n",
    "        )\n",
    "    \n",
    "print('vars in fixed-point graphs')\n",
    "for p in tf.global_variables():\n",
    "    print(p.name)"
   ]
  },
  {
   "cell_type": "code",
   "execution_count": 69,
   "metadata": {},
   "outputs": [
    {
     "name": "stdout",
     "output_type": "stream",
     "text": [
      "INFO:tensorflow:Restoring parameters from ./results/model\n",
      "test loss : 0.9473, acc : 0.5194\n",
      "xw_plus_b/weights_quant/min:0  :  -6.0\n",
      "xw_plus_b/weights_quant/max:0  :  6.0\n",
      "xw_plus_b/act_quant/min:0  :  0.0\n",
      "xw_plus_b/act_quant/max:0  :  6.0\n",
      "xw_plus_b_1/weights_quant/min:0  :  -6.0\n",
      "xw_plus_b_1/weights_quant/max:0  :  6.0\n",
      "xw_plus_b_1/act_quant/min:0  :  0.0\n",
      "xw_plus_b_1/act_quant/max:0  :  6.0\n",
      "xw_plus_b_2/weights_quant/min:0  :  -6.0\n",
      "xw_plus_b_2/weights_quant/max:0  :  6.0\n",
      "xw_plus_b_2/act_quant/min:0  :  0.0\n",
      "xw_plus_b_2/act_quant/max:0  :  6.0\n",
      "xw_plus_b_3/weights_quant/min:0  :  -6.0\n",
      "xw_plus_b_3/weights_quant/max:0  :  6.0\n",
      "xw_plus_b_3/act_quant/min:0  :  0.0\n",
      "xw_plus_b_3/act_quant/max:0  :  6.0\n"
     ]
    }
   ],
   "source": [
    "#pretrained model direct quantization test\n",
    "\n",
    "with tf.Session() as sess:\n",
    "    sess.run(tf.global_variables_initializer())\n",
    "\n",
    "    #load pretrained model\n",
    "    saver.restore(sess, './results/model')\n",
    "\n",
    "    ### test trained model ###\n",
    "    test_loss, test_acc = sess.run(\n",
    "            [loss, acc],\n",
    "            feed_dict = {x: dataset.test.images, y: dataset.test.labels}\n",
    "            )\n",
    "\n",
    "    print('test loss : %.4f, acc : %.4f'%(test_loss, test_acc))\n",
    "    for p in tf.global_variables():\n",
    "        if 'min' in p.name or 'max' in p.name:\n",
    "            print(p.name, ' : ', sess.run(p))\n",
    "            "
   ]
  },
  {
   "cell_type": "code",
   "execution_count": 70,
   "metadata": {},
   "outputs": [
    {
     "name": "stdout",
     "output_type": "stream",
     "text": [
      "xw_plus_b/weights_quant/min/Initializer/Const\n",
      "xw_plus_b/weights_quant/min\n",
      "xw_plus_b/weights_quant/min/Assign\n",
      "xw_plus_b/weights_quant/min/read\n",
      "xw_plus_b/weights_quant/max/Initializer/Const\n",
      "xw_plus_b/weights_quant/max\n",
      "xw_plus_b/weights_quant/max/Assign\n",
      "xw_plus_b/weights_quant/max/read\n",
      "xw_plus_b/weights_quant/FakeQuantWithMinMaxVars\n",
      "xw_plus_b_1/weights_quant/min/Initializer/Const\n",
      "xw_plus_b_1/weights_quant/min\n",
      "xw_plus_b_1/weights_quant/min/Assign\n",
      "xw_plus_b_1/weights_quant/min/read\n",
      "xw_plus_b_1/weights_quant/max/Initializer/Const\n",
      "xw_plus_b_1/weights_quant/max\n",
      "xw_plus_b_1/weights_quant/max/Assign\n",
      "xw_plus_b_1/weights_quant/max/read\n",
      "xw_plus_b_1/weights_quant/FakeQuantWithMinMaxVars\n",
      "xw_plus_b_2/weights_quant/min/Initializer/Const\n",
      "xw_plus_b_2/weights_quant/min\n",
      "xw_plus_b_2/weights_quant/min/Assign\n",
      "xw_plus_b_2/weights_quant/min/read\n",
      "xw_plus_b_2/weights_quant/max/Initializer/Const\n",
      "xw_plus_b_2/weights_quant/max\n",
      "xw_plus_b_2/weights_quant/max/Assign\n",
      "xw_plus_b_2/weights_quant/max/read\n",
      "xw_plus_b_2/weights_quant/FakeQuantWithMinMaxVars\n",
      "xw_plus_b_3/weights_quant/min/Initializer/Const\n",
      "xw_plus_b_3/weights_quant/min\n",
      "xw_plus_b_3/weights_quant/min/Assign\n",
      "xw_plus_b_3/weights_quant/min/read\n",
      "xw_plus_b_3/weights_quant/max/Initializer/Const\n",
      "xw_plus_b_3/weights_quant/max\n",
      "xw_plus_b_3/weights_quant/max/Assign\n",
      "xw_plus_b_3/weights_quant/max/read\n",
      "xw_plus_b_3/weights_quant/FakeQuantWithMinMaxVars\n"
     ]
    }
   ],
   "source": [
    "## get fixed-point params (by node name)\n",
    "\n",
    "weights_quant_nodes = [n.name for n in tf.get_default_graph().as_graph_def().node if 'weights_quant' in n.name]\n",
    "for node in weights_quant_nodes:\n",
    "    print(node)\n",
    "\n",
    "w1_fixed = g.get_tensor_by_name('xw_plus_b_1/weights_quant/FakeQuantWithMinMaxVars:0')\n",
    "a1_fixed = g.get_tensor_by_name('xw_plus_b_1/act_quant/FakeQuantWithMinMaxVars:0')"
   ]
  },
  {
   "cell_type": "code",
   "execution_count": 71,
   "metadata": {},
   "outputs": [
    {
     "name": "stdout",
     "output_type": "stream",
     "text": [
      "INFO:tensorflow:Restoring parameters from ./results/model\n",
      "--------------------------------------------------\n",
      "variables\n",
      "w_1:0\n",
      "[[-0.0332 -0.0602 -0.0491 ...  0.0659 -0.0367  0.0404]\n",
      " [-0.0904  0.0497 -0.0422 ...  0.0858 -0.088  -0.0006]\n",
      " [ 0.077   0.0667 -0.0383 ...  0.0534 -0.072  -0.0215]\n",
      " [-0.063  -0.0265 -0.0032 ... -0.081  -0.0529 -0.0389]\n",
      " [ 0.0216  0.067   0.0033 ... -0.0635 -0.0401  0.0316]]\n",
      "b_1:0\n",
      "[ 0.0073  0.0068 -0.0006  0.011   0.0257]\n",
      "xw_plus_b_1/weights_quant/min:0\n",
      "-6.0\n",
      "xw_plus_b_1/weights_quant/max:0\n",
      "6.0\n",
      "xw_plus_b_1/act_quant/min:0\n",
      "0.0\n",
      "xw_plus_b_1/act_quant/max:0\n",
      "6.0\n",
      "w_1\n",
      "[[-0.0472 -0.0472 -0.0472 ...  0.0472 -0.0472  0.0472]\n",
      " [-0.0945  0.0472 -0.0472 ...  0.0945 -0.0945 -0.    ]\n",
      " [ 0.0945  0.0472 -0.0472 ...  0.0472 -0.0945 -0.    ]\n",
      " [-0.0472 -0.0472 -0.     ... -0.0945 -0.0472 -0.0472]\n",
      " [-0.      0.0472 -0.     ... -0.0472 -0.0472  0.0472]]\n",
      "delta :  0.047244094488188976\n",
      "/delta :  [[-1. -1. -1. ...  1. -1.  1.]\n",
      " [-2.  1. -1. ...  2. -2. -0.]\n",
      " [ 2.  1. -1. ...  1. -2. -0.]\n",
      " [-1. -1. -0. ... -2. -1. -1.]\n",
      " [-0.  1. -0. ... -1. -1.  1.]]\n",
      "a_1\n",
      "[[0.  0.  0.  ... 0.8 0.4 0.4]\n",
      " [0.4 0.  0.  ... 0.4 0.  1.2]\n",
      " [0.4 0.4 0.  ... 0.8 0.4 1.2]\n",
      " [0.  0.4 0.  ... 0.4 0.4 0. ]\n",
      " [0.  0.  0.  ... 0.  0.  0. ]]\n",
      "delta :  0.4\n",
      "/delta :  [[0. 0. 0. ... 2. 1. 1.]\n",
      " [1. 0. 0. ... 1. 0. 3.]\n",
      " [1. 1. 0. ... 2. 1. 3.]\n",
      " [0. 1. 0. ... 1. 1. 0.]\n",
      " [0. 0. 0. ... 0. 0. 0.]]\n"
     ]
    }
   ],
   "source": [
    "with tf.Session() as sess:\n",
    "    sess.run(tf.global_variables_initializer())\n",
    "\n",
    "    #load pretrained model\n",
    "    saver.restore(sess, './results/model')\n",
    "\n",
    "    all_p = sess.run(tf.global_variables())\n",
    "\n",
    "    #check parameters\n",
    "    np.set_printoptions(precision=4, suppress = True)\n",
    "    print('-'*50)\n",
    "    print('variables')\n",
    "    for p, pp in zip(all_p, tf.global_variables()):\n",
    "        if '1' in pp.name:\n",
    "            print(pp.name)\n",
    "            if 'min' in pp.name or 'max' in pp.name:\n",
    "                print(p)\n",
    "            else:\n",
    "                print(p[0:5])\n",
    "\n",
    "    w1f, a1f = sess.run(\n",
    "            [w1_fixed, a1_fixed],\n",
    "            feed_dict = {x:dataset.test.images}\n",
    "            )\n",
    "    w_clip = (6.0 + 6.0) / (2**_N_W-2) \n",
    "    a_clip = (6.0 - 0.0) / (2**_N_A-1) \n",
    "    print('w_1')\n",
    "    print(w1f[0:5])\n",
    "    print('delta : ', w_clip)\n",
    "    print('/delta : ', w1f[0:5] / w_clip)\n",
    "    print('a_1')\n",
    "    print(a1f[0:5])\n",
    "    print('delta : ', a_clip)\n",
    "    print('/delta : ', a1f[0:5] / a_clip)"
   ]
  },
  {
   "cell_type": "code",
   "execution_count": null,
   "metadata": {},
   "outputs": [],
   "source": []
  },
  {
   "cell_type": "code",
   "execution_count": null,
   "metadata": {},
   "outputs": [],
   "source": []
  },
  {
   "cell_type": "code",
   "execution_count": null,
   "metadata": {},
   "outputs": [],
   "source": []
  },
  {
   "cell_type": "code",
   "execution_count": null,
   "metadata": {},
   "outputs": [],
   "source": []
  },
  {
   "cell_type": "code",
   "execution_count": null,
   "metadata": {},
   "outputs": [],
   "source": []
  },
  {
   "cell_type": "code",
   "execution_count": null,
   "metadata": {},
   "outputs": [],
   "source": []
  }
 ],
 "metadata": {
  "kernelspec": {
   "display_name": "Python 3",
   "language": "python",
   "name": "python3"
  },
  "language_info": {
   "codemirror_mode": {
    "name": "ipython",
    "version": 3
   },
   "file_extension": ".py",
   "mimetype": "text/x-python",
   "name": "python",
   "nbconvert_exporter": "python",
   "pygments_lexer": "ipython3",
   "version": "3.6.7"
  }
 },
 "nbformat": 4,
 "nbformat_minor": 2
}
